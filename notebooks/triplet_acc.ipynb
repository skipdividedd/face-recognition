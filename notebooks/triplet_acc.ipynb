{
 "cells": [
  {
   "cell_type": "code",
   "execution_count": 1,
   "id": "e4c45475",
   "metadata": {},
   "outputs": [],
   "source": [
    "import pandas as pd\n",
    "import numpy as np\n",
    "from sklearn.neighbors import KNeighborsClassifier\n",
    "from sklearn.metrics import accuracy_score\n",
    "import torch\n",
    "import os\n",
    "import sys"
   ]
  },
  {
   "cell_type": "code",
   "execution_count": 2,
   "id": "3d5eb567",
   "metadata": {},
   "outputs": [],
   "source": [
    "sys.path.append('.')\n",
    "sys.path.append('../src')\n",
    "from models import model\n",
    "from dataset import data"
   ]
  },
  {
   "cell_type": "code",
   "execution_count": 3,
   "id": "4b896871",
   "metadata": {},
   "outputs": [],
   "source": [
    "path4 = os.path.abspath('../')  # указывает предыдущий каталог каталога, в котором находится текущий файл\n",
    "device = 'cpu'\n",
    "filepath = path4 + '\\output\\\\triplet.pth'\n",
    "triplet = model('Triplet')\n",
    "triplet.load_state_dict(torch.load(filepath, map_location=torch.device('cpu')))\n",
    "train_loader, val_loader, test_loader = data('Triplet')"
   ]
  },
  {
   "cell_type": "code",
   "execution_count": 4,
   "id": "115b8abb",
   "metadata": {},
   "outputs": [],
   "source": [
    "def embedd(loader, model):\n",
    "    embeddings = []\n",
    "    targets = []\n",
    "    model.eval()\n",
    "    with torch.no_grad():\n",
    "        for data in loader:\n",
    "            inputs, labels = data[0], data[3]\n",
    "            inputs = inputs.to(device)\n",
    "            labels = labels.to(device)\n",
    "            # forward pass\n",
    "            output = model(inputs)\n",
    "\n",
    "            embeddings.append(output.cpu())\n",
    "            targets.append(labels.data.cpu())\n",
    "\n",
    "    return torch.cat(embeddings).numpy(), torch.cat(targets).numpy()"
   ]
  },
  {
   "cell_type": "code",
   "execution_count": 5,
   "id": "45cf37f7",
   "metadata": {},
   "outputs": [],
   "source": [
    "train_embeddings, train_targets = embedd(train_loader, triplet)\n",
    "val_embeddings, val_targets = embedd(val_loader, triplet)\n",
    "test_embeddings, test_targets = embedd(test_loader, triplet)\n",
    "\n",
    "train_dataset_emb = pd.DataFrame({'label': list(train_targets), 'images_train': list(train_embeddings)},\n",
    "                                 columns=['label', 'images_train']).sort_values('label').reset_index(drop=True)\n",
    "val_dataset_emb = pd.DataFrame({'label': list(val_targets), 'images_val': list(val_embeddings)},\n",
    "                               columns=['label', 'images_val']).sort_values('label').reset_index(drop=True)\n",
    "test_dataset_emb = pd.DataFrame({'label': list(test_targets), 'images_test': list(test_embeddings)},\n",
    "                                columns=['label', 'images_test']).sort_values('label').reset_index(drop=True)"
   ]
  },
  {
   "cell_type": "code",
   "execution_count": 6,
   "id": "607c363d",
   "metadata": {},
   "outputs": [],
   "source": [
    "X = train_dataset_emb.drop(\"label\", axis=1)\n",
    "X_train = X.values\n",
    "X_train = np.array(X_train.tolist()).reshape(len(X_train), 512)"
   ]
  },
  {
   "cell_type": "code",
   "execution_count": 7,
   "id": "dd85441a",
   "metadata": {},
   "outputs": [],
   "source": [
    "y = train_dataset_emb[\"label\"]\n",
    "y_train = y.values.tolist()"
   ]
  },
  {
   "cell_type": "code",
   "execution_count": 8,
   "id": "5565aade",
   "metadata": {},
   "outputs": [
    {
     "data": {
      "text/plain": [
       "KNeighborsClassifier()"
      ]
     },
     "execution_count": 8,
     "metadata": {},
     "output_type": "execute_result"
    }
   ],
   "source": [
    "knn = KNeighborsClassifier(n_neighbors=5)\n",
    "# #Train the model using the training sets\n",
    "knn.fit(X_train, y_train)"
   ]
  },
  {
   "cell_type": "code",
   "execution_count": 9,
   "id": "7971be54",
   "metadata": {},
   "outputs": [],
   "source": [
    "X_val = val_dataset_emb.drop(\"label\", axis=1)\n",
    "X_val = X_val.values\n",
    "X_val = np.array(X_val.tolist()).reshape(len(X_val), 512)\n",
    "y_val = val_dataset_emb[\"label\"]\n",
    "y_val = y_val.values"
   ]
  },
  {
   "cell_type": "code",
   "execution_count": 10,
   "id": "406e8ac9",
   "metadata": {},
   "outputs": [],
   "source": [
    "X_test = test_dataset_emb.drop(\"label\", axis=1)\n",
    "X_test = X_test.values\n",
    "X_test = np.array(X_test.tolist()).reshape(len(X_test), 512)\n",
    "y_test = test_dataset_emb[\"label\"]\n",
    "y_test = y_test.values"
   ]
  },
  {
   "cell_type": "code",
   "execution_count": 11,
   "id": "0a247909",
   "metadata": {},
   "outputs": [],
   "source": [
    "# Predict the response for val and test dataset\n",
    "y_pred_t = knn.predict(X_test)\n",
    "y_pred_v = knn.predict(X_val)"
   ]
  },
  {
   "cell_type": "code",
   "execution_count": 12,
   "id": "8de3bdab",
   "metadata": {},
   "outputs": [
    {
     "name": "stdout",
     "output_type": "stream",
     "text": [
      "Accuracy val: 0.7678381256656017\n",
      "Accuracy test: 0.7677784770295784\n"
     ]
    }
   ],
   "source": [
    "# Model Accuracy, how often is the classifier correct?\n",
    "print(\"Accuracy val:\", accuracy_score(y_val, y_pred_v))\n",
    "print(\"Accuracy test:\", accuracy_score(y_test, y_pred_t))"
   ]
  }
 ],
 "metadata": {
  "kernelspec": {
   "display_name": "Python 3",
   "language": "python",
   "name": "python3"
  },
  "language_info": {
   "codemirror_mode": {
    "name": "ipython",
    "version": 3
   },
   "file_extension": ".py",
   "mimetype": "text/x-python",
   "name": "python",
   "nbconvert_exporter": "python",
   "pygments_lexer": "ipython3",
   "version": "3.9.12"
  }
 },
 "nbformat": 4,
 "nbformat_minor": 5
}
